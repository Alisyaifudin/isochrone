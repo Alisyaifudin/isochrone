{
 "cells": [
  {
   "cell_type": "code",
   "execution_count": 1,
   "metadata": {},
   "outputs": [],
   "source": [
    "from isochrones import get_ichrone\n",
    "\n",
    "mist = get_ichrone('mist')"
   ]
  },
  {
   "cell_type": "code",
   "execution_count": 10,
   "metadata": {},
   "outputs": [],
   "source": [
    "from isochrones import BinaryStarModel\n",
    "from isochrones.utils import addmags\n",
    "\n",
    "distance = 500  # pc\n",
    "AV = 0.2\n",
    "mass_A = 1.0\n",
    "mass_B = 0.5\n",
    "age = 9.6\n",
    "feh = 0.0\n",
    "\n",
    "# Synthetic 2MASS and Gaia magnitudes\n",
    "bands = ['J', 'H', 'K', 'BP', 'RP', 'G']\n",
    "bands_mag = ['J_mag', 'H_mag', 'K_mag', 'BP_mag', 'RP_mag', 'G_mag']\n",
    "props_A = mist.track.generate(mass_A, age, feh, distance=distance, AV=AV,\n",
    "                              bands=bands, return_dict=True, accurate=True)\n",
    "props_B = mist.track.generate(mass_B, age, feh, distance=distance, AV=AV,\n",
    "                              bands=bands, return_dict=True, accurate=True)\n",
    "\n",
    "unc = dict(J_mag=0.02, H_mag=0.02, K_mag=0.02, BP_mag=0.002, RP_mag=0.002, G_mag=0.001)\n",
    "\n",
    "mags_tot = {b: (addmags(props_A[b], props_B[b]), unc[b]) for b in bands_mag}\n",
    "\n",
    "# Gaia parallax in mas for a system at 500 pc\n",
    "parallax = (2, 0.05)\n",
    "\n",
    "mod_binary = BinaryStarModel(mist, **mags_tot, parallax=parallax, name='demo_binary')"
   ]
  },
  {
   "cell_type": "code",
   "execution_count": 11,
   "metadata": {},
   "outputs": [
    {
     "data": {
      "text/plain": [
       "('eep_0', 'eep_1', 'age', 'feh', 'distance', 'AV')"
      ]
     },
     "execution_count": 11,
     "metadata": {},
     "output_type": "execute_result"
    }
   ],
   "source": [
    "mod_binary.param_names"
   ]
  },
  {
   "cell_type": "code",
   "execution_count": 12,
   "metadata": {},
   "outputs": [],
   "source": [
    "mod_binary.set_bounds(eep=(1, 600), age=(8, 10))"
   ]
  },
  {
   "cell_type": "code",
   "execution_count": 13,
   "metadata": {},
   "outputs": [
    {
     "name": "stdout",
     "output_type": "stream",
     "text": [
      "-383.6207715555665\n",
      "The slowest run took 8.13 times longer than the fastest. This could mean that an intermediate result is being cached.\n",
      "297 µs ± 345 µs per loop (mean ± std. dev. of 7 runs, 1,000 loops each)\n"
     ]
    }
   ],
   "source": [
    "pars = [350., 300., 9.7, 0.0, 300., 0.1]\n",
    "print(mod_binary.lnpost(pars))\n",
    "%timeit mod_binary.lnpost(pars)"
   ]
  },
  {
   "cell_type": "code",
   "execution_count": null,
   "metadata": {},
   "outputs": [],
   "source": []
  }
 ],
 "metadata": {
  "interpreter": {
   "hash": "83df2f91951552e2b930898c2829c6e11557f53c7573c255987c0b5c85a19379"
  },
  "kernelspec": {
   "display_name": "Python 3.10.2 ('isochrones')",
   "language": "python",
   "name": "python3"
  },
  "language_info": {
   "codemirror_mode": {
    "name": "ipython",
    "version": 3
   },
   "file_extension": ".py",
   "mimetype": "text/x-python",
   "name": "python",
   "nbconvert_exporter": "python",
   "pygments_lexer": "ipython3",
   "version": "3.10.2"
  },
  "orig_nbformat": 4
 },
 "nbformat": 4,
 "nbformat_minor": 2
}
