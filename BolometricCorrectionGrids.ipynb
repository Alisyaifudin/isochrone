{
 "cells": [
  {
   "cell_type": "code",
   "execution_count": 1,
   "metadata": {},
   "outputs": [],
   "source": [
    "from isochrones.mist.bc import MISTBolometricCorrectionGrid\n",
    "\n",
    "bc_grid = MISTBolometricCorrectionGrid(['J', 'H', 'K', 'G', 'BP', 'RP', 'g', 'r', 'i'])"
   ]
  },
  {
   "cell_type": "code",
   "execution_count": 2,
   "metadata": {},
   "outputs": [
    {
     "name": "stderr",
     "output_type": "stream",
     "text": [
      "/home/alisyaifudin/anaconda3/envs/isochrones/lib/python3.10/site-packages/tables/attributeset.py:459: NaturalNameWarning: object name is not a valid Python identifier: 'axis1_name[Fe/H]'; it does not match the pattern ``^[a-zA-Z_][a-zA-Z0-9_]*$``; you will not be able to use natural naming to access this object; using ``getattr()`` will still work, though\n",
      "  check_attribute_name(name)\n"
     ]
    },
    {
     "data": {
      "text/html": [
       "<div>\n",
       "<style scoped>\n",
       "    .dataframe tbody tr th:only-of-type {\n",
       "        vertical-align: middle;\n",
       "    }\n",
       "\n",
       "    .dataframe tbody tr th {\n",
       "        vertical-align: top;\n",
       "    }\n",
       "\n",
       "    .dataframe thead th {\n",
       "        text-align: right;\n",
       "    }\n",
       "</style>\n",
       "<table border=\"1\" class=\"dataframe\">\n",
       "  <thead>\n",
       "    <tr style=\"text-align: right;\">\n",
       "      <th></th>\n",
       "      <th></th>\n",
       "      <th></th>\n",
       "      <th></th>\n",
       "      <th>g</th>\n",
       "      <th>r</th>\n",
       "      <th>i</th>\n",
       "      <th>J</th>\n",
       "      <th>H</th>\n",
       "      <th>K</th>\n",
       "      <th>G</th>\n",
       "      <th>BP</th>\n",
       "      <th>RP</th>\n",
       "    </tr>\n",
       "    <tr>\n",
       "      <th>Teff</th>\n",
       "      <th>logg</th>\n",
       "      <th>[Fe/H]</th>\n",
       "      <th>Av</th>\n",
       "      <th></th>\n",
       "      <th></th>\n",
       "      <th></th>\n",
       "      <th></th>\n",
       "      <th></th>\n",
       "      <th></th>\n",
       "      <th></th>\n",
       "      <th></th>\n",
       "      <th></th>\n",
       "    </tr>\n",
       "  </thead>\n",
       "  <tbody>\n",
       "    <tr>\n",
       "      <th rowspan=\"5\" valign=\"top\">2500.0</th>\n",
       "      <th rowspan=\"5\" valign=\"top\">-4.0</th>\n",
       "      <th rowspan=\"5\" valign=\"top\">-4.0</th>\n",
       "      <th>0.00</th>\n",
       "      <td>-6.534742</td>\n",
       "      <td>-3.332877</td>\n",
       "      <td>-1.617626</td>\n",
       "      <td>1.845781</td>\n",
       "      <td>2.927064</td>\n",
       "      <td>3.436304</td>\n",
       "      <td>-2.181987</td>\n",
       "      <td>-4.652549</td>\n",
       "      <td>-0.881256</td>\n",
       "    </tr>\n",
       "    <tr>\n",
       "      <th>0.05</th>\n",
       "      <td>-6.590469</td>\n",
       "      <td>-3.375570</td>\n",
       "      <td>-1.650338</td>\n",
       "      <td>1.831466</td>\n",
       "      <td>2.917990</td>\n",
       "      <td>3.430463</td>\n",
       "      <td>-2.211638</td>\n",
       "      <td>-4.697705</td>\n",
       "      <td>-0.909058</td>\n",
       "    </tr>\n",
       "    <tr>\n",
       "      <th>0.10</th>\n",
       "      <td>-6.646182</td>\n",
       "      <td>-3.418258</td>\n",
       "      <td>-1.683043</td>\n",
       "      <td>1.817153</td>\n",
       "      <td>2.908916</td>\n",
       "      <td>3.424623</td>\n",
       "      <td>-2.241241</td>\n",
       "      <td>-4.742843</td>\n",
       "      <td>-0.936830</td>\n",
       "    </tr>\n",
       "    <tr>\n",
       "      <th>0.15</th>\n",
       "      <td>-6.701881</td>\n",
       "      <td>-3.460939</td>\n",
       "      <td>-1.715740</td>\n",
       "      <td>1.802841</td>\n",
       "      <td>2.899842</td>\n",
       "      <td>3.418782</td>\n",
       "      <td>-2.270798</td>\n",
       "      <td>-4.787964</td>\n",
       "      <td>-0.964572</td>\n",
       "    </tr>\n",
       "    <tr>\n",
       "      <th>0.20</th>\n",
       "      <td>-6.757566</td>\n",
       "      <td>-3.503615</td>\n",
       "      <td>-1.748429</td>\n",
       "      <td>1.788530</td>\n",
       "      <td>2.890769</td>\n",
       "      <td>3.412942</td>\n",
       "      <td>-2.300307</td>\n",
       "      <td>-4.833067</td>\n",
       "      <td>-0.992286</td>\n",
       "    </tr>\n",
       "  </tbody>\n",
       "</table>\n",
       "</div>"
      ],
      "text/plain": [
       "                                g         r         i         J         H  \\\n",
       "Teff   logg [Fe/H] Av                                                       \n",
       "2500.0 -4.0 -4.0   0.00 -6.534742 -3.332877 -1.617626  1.845781  2.927064   \n",
       "                   0.05 -6.590469 -3.375570 -1.650338  1.831466  2.917990   \n",
       "                   0.10 -6.646182 -3.418258 -1.683043  1.817153  2.908916   \n",
       "                   0.15 -6.701881 -3.460939 -1.715740  1.802841  2.899842   \n",
       "                   0.20 -6.757566 -3.503615 -1.748429  1.788530  2.890769   \n",
       "\n",
       "                                K         G        BP        RP  \n",
       "Teff   logg [Fe/H] Av                                            \n",
       "2500.0 -4.0 -4.0   0.00  3.436304 -2.181987 -4.652549 -0.881256  \n",
       "                   0.05  3.430463 -2.211638 -4.697705 -0.909058  \n",
       "                   0.10  3.424623 -2.241241 -4.742843 -0.936830  \n",
       "                   0.15  3.418782 -2.270798 -4.787964 -0.964572  \n",
       "                   0.20  3.412942 -2.300307 -4.833067 -0.992286  "
      ]
     },
     "execution_count": 2,
     "metadata": {},
     "output_type": "execute_result"
    }
   ],
   "source": [
    "bc_grid.df.head()"
   ]
  },
  {
   "cell_type": "code",
   "execution_count": 3,
   "metadata": {},
   "outputs": [
    {
     "data": {
      "text/plain": [
       "FrozenList(['Teff', 'logg', '[Fe/H]', 'Av'])"
      ]
     },
     "execution_count": 3,
     "metadata": {},
     "output_type": "execute_result"
    }
   ],
   "source": [
    "bc_grid.interp.index_names"
   ]
  },
  {
   "cell_type": "code",
   "execution_count": 4,
   "metadata": {},
   "outputs": [
    {
     "data": {
      "text/plain": [
       "array([0.0819589 , 1.45398088])"
      ]
     },
     "execution_count": 4,
     "metadata": {},
     "output_type": "execute_result"
    }
   ],
   "source": [
    "bc_grid.interp([5770, 4.44, 0.0, 0.], ['G', 'K'])"
   ]
  },
  {
   "cell_type": "code",
   "execution_count": 5,
   "metadata": {},
   "outputs": [
    {
     "data": {
      "text/plain": [
       "(('UBVRIplus', 'Gaia_G_DR2Rev'), ('SDSSugriz', 'SDSS_g'))"
      ]
     },
     "execution_count": 5,
     "metadata": {},
     "output_type": "execute_result"
    }
   ],
   "source": [
    "bc_grid.get_band('G'), bc_grid.get_band('g')"
   ]
  },
  {
   "cell_type": "code",
   "execution_count": 6,
   "metadata": {},
   "outputs": [
    {
     "data": {
      "text/plain": [
       "('DECam', 'DECam_g')"
      ]
     },
     "execution_count": 6,
     "metadata": {},
     "output_type": "execute_result"
    }
   ],
   "source": [
    "bc_grid.get_band('DECam_g')"
   ]
  },
  {
   "cell_type": "code",
   "execution_count": null,
   "metadata": {},
   "outputs": [],
   "source": []
  }
 ],
 "metadata": {
  "interpreter": {
   "hash": "83df2f91951552e2b930898c2829c6e11557f53c7573c255987c0b5c85a19379"
  },
  "kernelspec": {
   "display_name": "Python 3.10.2 ('isochrones')",
   "language": "python",
   "name": "python3"
  },
  "language_info": {
   "codemirror_mode": {
    "name": "ipython",
    "version": 3
   },
   "file_extension": ".py",
   "mimetype": "text/x-python",
   "name": "python",
   "nbconvert_exporter": "python",
   "pygments_lexer": "ipython3",
   "version": "3.10.2"
  },
  "orig_nbformat": 4
 },
 "nbformat": 4,
 "nbformat_minor": 2
}
